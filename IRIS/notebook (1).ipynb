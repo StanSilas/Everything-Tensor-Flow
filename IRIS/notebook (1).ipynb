{
  "metadata": {
    "kernelspec": {
      "display_name": "Python 3",
      "language": "python",
      "name": "python3"
    },
    "language_info": {
      "codemirror_mode": {
        "name": "ipython",
        "version": 3
      },
      "file_extension": ".py",
      "mimetype": "text/x-python",
      "name": "python",
      "nbconvert_exporter": "python",
      "pygments_lexer": "ipython3",
      "version": "3.6.0"
    }
  },
  "nbformat": 4,
  "nbformat_minor": 0,
  "cells": [
    {
      "cell_type": "markdown",
      "source": "Implementing multi-class classifier with SVM using non linear kernels.\nPart 1. Uni-class: Setosa or not?\nPart 2. Multi-class classification ",
      "metadata": {}
    },
    {
      "cell_type": "code",
      "source": "import matplotlib.pyplot as plt\nimport numpy as np\nimport tensorflow as tf\nfrom sklearn import datasets\nsess = tf.Session()",
      "execution_count": null,
      "outputs": [],
      "metadata": {}
    },
    {
      "cell_type": "code",
      "source": "import pandas as pd # data processing, CSV file I/O (e.g. pd.read_csv)\nimport os\nimport gc\nimport seaborn as sns\n\nfrom scipy import ndimage\nfrom subprocess import check_output\n\nimport cv2\n\n\npal = sns.color_palette()\n\nimport plotly.offline as py\npy.init_notebook_mode(connected=True)\nimport plotly.graph_objs as go\nimport plotly.tools as tls",
      "execution_count": null,
      "outputs": [],
      "metadata": {}
    },
    {
      "cell_type": "code",
      "source": "iris = datasets.load_iris()\nx_vals = np.array([[x[0], x[3]] for x in iris.data])\ny_vals = np.array([1 if y==0 else -1 for y in iris.target])\nclass1_x = [x[0] for i,x in enumerate(x_vals) if\ny_vals[i]==1]\nclass1_y = [x[1] for i,x in enumerate(x_vals) if\ny_vals[i]==1]\nclass2_x = [x[0] for i,x in enumerate(x_vals) if\ny_vals[i]==-1]\nclass2_y = [x[1] for i,x in enumerate(x_vals) if\ny_vals[i]==-1]",
      "execution_count": null,
      "outputs": [],
      "metadata": {}
    },
    {
      "cell_type": "code",
      "source": "batch_size = 100\nx_data = tf.placeholder(shape=[None, 2], dtype=tf.float32)\ny_target = tf.placeholder(shape=[None, 1], dtype=tf.float32)\nprediction_grid = tf.placeholder(shape=[None, 2],\ndtype=tf.float32)\nb = tf.Variable(tf.random_normal(shape=[1,batch_size]))",
      "execution_count": null,
      "outputs": [],
      "metadata": {}
    },
    {
      "cell_type": "code",
      "source": "gamma = tf.constant(-10.0) # feel free to explore different values of gamma \ndist = tf.reduce_sum(tf.square(x_data), 1)\ndist = tf.reshape(dist, [-1,1])\nsq_dists = tf.add(tf.subtract(dist, tf.multiply(2., tf.matmul(x_data,\ntf.transpose(x_data)))), tf.transpose(dist))\nmy_kernel = tf.exp(tf.multiply(gamma, tf.abs(sq_dists)))\n#We now compute the loss for the dual optimization problem, as follows:\nmodel_output = tf.matmul(b, my_kernel)\nfirst_term = tf.reduce_sum(b)\nb_vec_cross = tf.matmul(tf.transpose(b), b)\ny_target_cross = tf.matmul(y_target, tf.transpose(y_target))\nsecond_term = tf.reduce_sum(tf.multiply(my_kernel,\ntf.multiply(b_vec_cross, y_target_cross)))\nloss = tf.negative(tf.subtract(first_term, second_term))",
      "execution_count": null,
      "outputs": [],
      "metadata": {}
    },
    {
      "cell_type": "code",
      "source": "rA = tf.reshape(tf.reduce_sum(tf.square(x_data), 1),[-1,1])\nrB = tf.reshape(tf.reduce_sum(tf.square(prediction_grid), 1),\n[-1,1])\npred_sq_dist = tf.add(tf.subtract(rA, tf.multiply(2., tf.matmul(x_data,\ntf.transpose(prediction_grid)))), tf.transpose(rB))",
      "execution_count": null,
      "outputs": [],
      "metadata": {}
    },
    {
      "cell_type": "code",
      "source": "pred_kernel = tf.exp(tf.multiply(gamma, tf.abs(pred_sq_dist)))\nprediction_output =tf.matmul(tf.multiply(tf.transpose(y_target),b), pred_kernel)",
      "execution_count": null,
      "outputs": [],
      "metadata": {}
    },
    {
      "cell_type": "code",
      "source": "prediction = tf.sign(prediction_output-tf.reduce_mean(prediction_output))",
      "execution_count": null,
      "outputs": [],
      "metadata": {}
    },
    {
      "cell_type": "code",
      "source": "accuracy =tf.reduce_mean(tf.cast(tf.equal(tf.squeeze(prediction),tf.squeeze(y_target)), tf.float32))",
      "execution_count": null,
      "outputs": [],
      "metadata": {}
    },
    {
      "cell_type": "code",
      "source": "my_opt = tf.train.GradientDescentOptimizer(0.01)\ntrain_step = my_opt.minimize(loss)\ninit = tf.global_variables_initializer() # this line is different depending on your version of tf\nsess.run(init)",
      "execution_count": null,
      "outputs": [],
      "metadata": {}
    },
    {
      "cell_type": "code",
      "source": "loss_vec = []\nbatch_accuracy = []\nfor i in range(300):\n    rand_index = np.random.choice(len(x_vals),size=batch_size)\n    rand_x = x_vals[rand_index]\n    rand_y = np.transpose([y_vals[rand_index]])\n    sess.run(train_step, feed_dict={x_data: rand_x, y_target:rand_y})\n    temp_loss = sess.run(loss, feed_dict={x_data: rand_x,y_target: rand_y})\n    loss_vec.append(temp_loss)\n    acc_temp = sess.run(accuracy, feed_dict={x_data: rand_x,y_target:rand_y,prediction_grid:rand_x})\n    batch_accuracy.append(acc_temp)",
      "execution_count": null,
      "outputs": [],
      "metadata": {}
    },
    {
      "cell_type": "code",
      "source": "x_min, x_max = x_vals[:, 0].min() - 1, x_vals[:, 0].max() + 1\ny_min, y_max = x_vals[:, 1].min() - 1, x_vals[:, 1].max() + 1\nxx, yy = np.meshgrid(np.arange(x_min, x_max, 0.02),np.arange(y_min, y_max, 0.02))\ngrid_points = np.c_[xx.ravel(), yy.ravel()]\n[grid_predictions] = sess.run(prediction, feed_dict={x_data:rand_x,y_target:rand_y,prediction_grid: grid_points})\ngrid_predictions = grid_predictions.reshape(xx.shape)",
      "execution_count": null,
      "outputs": [],
      "metadata": {}
    },
    {
      "cell_type": "code",
      "source": "plt.contourf(xx, yy, grid_predictions, cmap=plt.cm.Paired,\nalpha=0.8)\nplt.plot(class1_x, class1_y, 'ro', label='I. setosa')\nplt.plot(class2_x, class2_y, 'kx', label='Non setosa')\nplt.title('Non Linear (Gaussian) Kernel SVM Results: Iris Data')\nplt.xlabel('Pedal Length')\nplt.ylabel('Sepal Width')\nplt.legend(loc='lower right')\nplt.ylim([-0.5, 3.0])\nplt.xlim([3.5, 8.5])\nplt.show()",
      "execution_count": null,
      "outputs": [],
      "metadata": {}
    },
    {
      "cell_type": "markdown",
      "source": "As you change the values of gamma, the plots will change reflecting the change of gamma",
      "metadata": {}
    },
    {
      "cell_type": "markdown",
      "source": "Multi-class svm :",
      "metadata": {}
    },
    {
      "cell_type": "code",
      "source": "iris = datasets.load_iris()\nx_vals = np.array([[x[0], x[3]] for x in iris.data])\ny_vals1 = np.array([1 if y==0 else -1 for y in iris.target])\ny_vals2 = np.array([1 if y==1 else -1 for y in iris.target])\ny_vals3 = np.array([1 if y==2 else -1 for y in iris.target])\ny_vals = np.array([y_vals1, y_vals2, y_vals3])\nclass1_x = [x[0] for i,x in enumerate(x_vals) if\niris.target[i]==0]\nclass1_y = [x[1] for i,x in enumerate(x_vals) if\niris.target[i]==0]\nclass2_x = [x[0] for i,x in enumerate(x_vals) if\niris.target[i]==1]\nclass2_y = [x[1] for i,x in enumerate(x_vals) if\niris.target[i]==1]\nclass3_x = [x[0] for i,x in enumerate(x_vals) if\niris.target[i]==2]\nclass3_y = [x[1] for i,x in enumerate(x_vals) if\niris.target[i]==2]",
      "execution_count": null,
      "outputs": [],
      "metadata": {}
    },
    {
      "cell_type": "code",
      "source": "batch_size = 50\nx_data = tf.placeholder(shape=[None, 2], dtype=tf.float32)\ny_target = tf.placeholder(shape=[3, None], dtype=tf.float32)\nprediction_grid = tf.placeholder(shape=[None, 2],dtype=tf.float32)\nb = tf.Variable(tf.random_normal(shape=[3,batch_size]))",
      "execution_count": null,
      "outputs": [],
      "metadata": {}
    },
    {
      "cell_type": "code",
      "source": "gamma = tf.constant(-1.0) \ndist = tf.reduce_sum(tf.square(x_data), 1)\ndist = tf.reshape(dist, [-1,1])\nsq_dists = tf.add(tf.subtract(dist, tf.multiply(2., tf.matmul(x_data,tf.transpose(x_data)))), tf.transpose(dist))\nmy_kernel = tf.exp(tf.multiply(gamma, tf.abs(sq_dists)))",
      "execution_count": null,
      "outputs": [],
      "metadata": {}
    },
    {
      "cell_type": "code",
      "source": "#batch multiplication\ndef reshape_matmul(mat):\n    v1 = tf.expand_dims(mat, 1)\n    v2 = tf.reshape(v1, [3, batch_size, 1])\n    return(tf.matmul(v2, v1))",
      "execution_count": null,
      "outputs": [],
      "metadata": {}
    },
    {
      "cell_type": "code",
      "source": "#loss\nmodel_output = tf.matmul(b, my_kernel)\nfirst_term = tf.reduce_sum(b)\nb_vec_cross = tf.matmul(tf.transpose(b), b)\ny_target_cross = reshape_matmul(y_target)\nsecond_term = tf.reduce_sum(tf.multiply(my_kernel,tf.multiply(b_vec_cross, y_target_cross)),[1,2])\nloss = tf.reduce_sum(tf.negative(tf.subtract(first_term, second_term)))",
      "execution_count": null,
      "outputs": [],
      "metadata": {}
    },
    {
      "cell_type": "code",
      "source": "rA = tf.reshape(tf.reduce_sum(tf.square(x_data), 1),[-1,1])\nrB = tf.reshape(tf.reduce_sum(tf.square(prediction_grid), 1),[-1,1])\n\npred_sq_dist = tf.add(tf.subtract(rA, tf.multiply(2., tf.matmul(x_data,tf.transpose(prediction_grid)))), tf.transpose(rB))\npred_kernel = tf.exp(tf.multiply(gamma, tf.abs(pred_sq_dist)))",
      "execution_count": null,
      "outputs": [],
      "metadata": {}
    },
    {
      "cell_type": "code",
      "source": "prediction_output = tf.matmul(tf.multiply(y_target,b),pred_kernel)\nprediction = tf.arg_max(prediction_output-tf.expand_dims(tf.reduce_mean(prediction_output,1), 1), 0)\naccuracy = tf.reduce_mean(tf.cast(tf.equal(prediction,tf.argmax(y_target,0)), tf.float32))",
      "execution_count": null,
      "outputs": [],
      "metadata": {}
    },
    {
      "cell_type": "code",
      "source": "my_opt = tf.train.GradientDescentOptimizer(0.01)\ntrain_step = my_opt.minimize(loss)\ninit = tf.global_variables_initializer()\nsess.run(init)",
      "execution_count": null,
      "outputs": [],
      "metadata": {}
    },
    {
      "cell_type": "code",
      "source": "loss_vec = []\nbatch_accuracy = []",
      "execution_count": null,
      "outputs": [],
      "metadata": {}
    },
    {
      "cell_type": "code",
      "source": "for i in range(1000):\n    rand_index = np.random.choice(len(x_vals),\n    size=batch_size)\n    rand_x = x_vals[rand_index]\n    rand_y = y_vals[:,rand_index]\n    sess.run(train_step, feed_dict={x_data: rand_x, y_target:rand_y})\n    temp_loss = sess.run(loss, feed_dict={x_data: rand_x,y_target: rand_y})\n    loss_vec.append(temp_loss)\n    acc_temp = sess.run(accuracy, feed_dict={x_data: rand_x,y_target: rand_y, prediction_grid:rand_x})\n    batch_accuracy.append(acc_temp)\n    if (i+1)%5==0:\n        print('Step #' + str(i+1))\n        print('Loss = ' + str(temp_loss))",
      "execution_count": null,
      "outputs": [],
      "metadata": {}
    },
    {
      "cell_type": "code",
      "source": "x_min, x_max = x_vals[:, 0].min() - 1, x_vals[:, 0].max() + 1\ny_min, y_max = x_vals[:, 1].min() - 1, x_vals[:, 1].max() + 1\n\nxx, yy = np.meshgrid(np.arange(x_min, x_max, 0.02),\nnp.arange(y_min, y_max, 0.02))\n\ngrid_points = np.c_[xx.ravel(), yy.ravel()]\ngrid_predictions = sess.run(prediction, feed_dict={x_data:rand_x,y_target:rand_y,prediction_grid: grid_points})\ngrid_predictions = grid_predictions.reshape(xx.shape)",
      "execution_count": null,
      "outputs": [],
      "metadata": {}
    },
    {
      "cell_type": "code",
      "source": "plt.contourf(xx, yy, grid_predictions, cmap=plt.cm.Paired,\nalpha=0.8)\nplt.plot(class1_x, class1_y, 'kx', label='Setosa')\nplt.plot(class2_x, class2_y, 'gv', label='Versicolor')\nplt.plot(class3_x, class3_y, 'ro', label='Virginica')\nplt.title('Gaussian SVM Results: Iris Data')\nplt.xlabel('Pedal Length')\nplt.ylabel('Sepal Width')\nplt.legend(loc='lower right')\nplt.ylim([-0.5, 3.0])\nplt.xlim([3.5, 8.5])\nplt.show()\n\nplt.plot(batch_accuracy, 'k-', label='Accuracy')\nplt.title('Batch Accuracy')\nplt.xlabel('Generation')\nplt.ylabel('Accuracy')\nplt.legend(loc='lower right')\nplt.show()\n\nplt.plot(loss_vec, 'k-')\nplt.title('Loss per Generation')\nplt.xlabel('Generation')\nplt.ylabel('Loss')\nplt.show()",
      "execution_count": null,
      "outputs": [],
      "metadata": {}
    },
    {
      "cell_type": "code",
      "source": " #Code is heavily drawn from Tensorflow Machine Learning Cookbook by Nick McClure. I just made changes to reflect the latest version of tensor flow :\n    #  tf.mul , tf.sub , tf.neg are now deprecated, and replaced with tf.multiply, tf.subtract,tf.negative\n    # init = tf.initialize_all_variables() is now deprecated, and replaced with : init = tf.global_variables_initializer()\n\n    ",
      "execution_count": null,
      "outputs": [],
      "metadata": {}
    },
    {
      "cell_type": "code",
      "source": null,
      "execution_count": null,
      "outputs": [],
      "metadata": {}
    }
  ]
}